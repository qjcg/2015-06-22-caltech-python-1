{
 "metadata": {
  "name": "",
  "signature": "sha256:0143250cd6ea19a704ed08b41df066d2d64b96abb10afa0e5e65c8396fcfa41d"
 },
 "nbformat": 3,
 "nbformat_minor": 0,
 "worksheets": [
  {
   "cells": [
    {
     "cell_type": "code",
     "collapsed": false,
     "input": [
      "cd ~/swc/pandas-data/"
     ],
     "language": "python",
     "metadata": {},
     "outputs": [
      {
       "output_type": "stream",
       "stream": "stdout",
       "text": [
        "/home/zonca/swc/pandas-data\n"
       ]
      }
     ],
     "prompt_number": 1
    },
    {
     "cell_type": "code",
     "collapsed": false,
     "input": [
      "pwd"
     ],
     "language": "python",
     "metadata": {},
     "outputs": [
      {
       "metadata": {},
       "output_type": "pyout",
       "prompt_number": 2,
       "text": [
        "u'/home/zonca/swc/pandas-data'"
       ]
      }
     ],
     "prompt_number": 2
    },
    {
     "cell_type": "heading",
     "level": 1,
     "metadata": {},
     "source": [
      "Introduction"
     ]
    },
    {
     "cell_type": "markdown",
     "metadata": {},
     "source": [
      "Let's start with a hypothetical problem we want to solve. We are interested in understanding the relationship between the weather and the number of mosquitos occuring in a particular year so that we can plan mosquito control measures accordingly. Since we want to apply these mosquito control measures at a number of different sites we need to understand both the relationship at a particular site and whether or not it is consistent across sites. The data we have to address this problem comes from the local government and are stored in tables in comma-separated values (CSV) files. Each file holds the data for a single location, each row holds the information for a single year at that location, and the columns hold the data on both mosquito numbers and the average temperature and rainfall from the beginning of mosquito breeding season. The first few rows of our first file look like:\n",
      "\n",
      "~~~\n",
      "year,temperature,rainfall,mosquitos\n",
      "2001,87,222,198\n",
      "2002,72,103,105\n",
      "2003,77,176,166\n",
      "~~~"
     ]
    },
    {
     "cell_type": "heading",
     "level": 2,
     "metadata": {},
     "source": [
      "Objectives"
     ]
    },
    {
     "cell_type": "markdown",
     "metadata": {},
     "source": [
      "* Conduct variable assignment, looping, and conditionals in Python\n",
      "* Use an external Python library\n",
      "* Read tabular data from a file\n",
      "* Subset and perform analysis on data\n",
      "* Display simple graphs"
     ]
    },
    {
     "cell_type": "heading",
     "level": 2,
     "metadata": {},
     "source": [
      "Loading Data"
     ]
    },
    {
     "cell_type": "markdown",
     "metadata": {},
     "source": [
      "In order to load the data, we need to import a library called Pandas that knows\n",
      "how to operate on tables of data."
     ]
    },
    {
     "cell_type": "code",
     "collapsed": false,
     "input": [
      "import pandas"
     ],
     "language": "python",
     "metadata": {},
     "outputs": [],
     "prompt_number": 3
    },
    {
     "cell_type": "markdown",
     "metadata": {},
     "source": [
      "We can now use Pandas to read our data file."
     ]
    },
    {
     "cell_type": "code",
     "collapsed": false,
     "input": [
      "pandas.read_csv('A1_mosquito_data.csv', sep=',')"
     ],
     "language": "python",
     "metadata": {},
     "outputs": [
      {
       "html": [
        "<div style=\"max-height:1000px;max-width:1500px;overflow:auto;\">\n",
        "<table border=\"1\" class=\"dataframe\">\n",
        "  <thead>\n",
        "    <tr style=\"text-align: right;\">\n",
        "      <th></th>\n",
        "      <th>year</th>\n",
        "      <th>temperature</th>\n",
        "      <th>rainfall</th>\n",
        "      <th>mosquitos</th>\n",
        "    </tr>\n",
        "  </thead>\n",
        "  <tbody>\n",
        "    <tr>\n",
        "      <th>0</th>\n",
        "      <td> 2001</td>\n",
        "      <td> 80</td>\n",
        "      <td> 157</td>\n",
        "      <td> 150</td>\n",
        "    </tr>\n",
        "    <tr>\n",
        "      <th>1</th>\n",
        "      <td> 2002</td>\n",
        "      <td> 85</td>\n",
        "      <td> 252</td>\n",
        "      <td> 217</td>\n",
        "    </tr>\n",
        "    <tr>\n",
        "      <th>2</th>\n",
        "      <td> 2003</td>\n",
        "      <td> 86</td>\n",
        "      <td> 154</td>\n",
        "      <td> 153</td>\n",
        "    </tr>\n",
        "    <tr>\n",
        "      <th>3</th>\n",
        "      <td> 2004</td>\n",
        "      <td> 87</td>\n",
        "      <td> 159</td>\n",
        "      <td> 158</td>\n",
        "    </tr>\n",
        "    <tr>\n",
        "      <th>4</th>\n",
        "      <td> 2005</td>\n",
        "      <td> 74</td>\n",
        "      <td> 292</td>\n",
        "      <td> 243</td>\n",
        "    </tr>\n",
        "    <tr>\n",
        "      <th>5</th>\n",
        "      <td> 2006</td>\n",
        "      <td> 75</td>\n",
        "      <td> 283</td>\n",
        "      <td> 237</td>\n",
        "    </tr>\n",
        "    <tr>\n",
        "      <th>6</th>\n",
        "      <td> 2007</td>\n",
        "      <td> 80</td>\n",
        "      <td> 214</td>\n",
        "      <td> 190</td>\n",
        "    </tr>\n",
        "    <tr>\n",
        "      <th>7</th>\n",
        "      <td> 2008</td>\n",
        "      <td> 85</td>\n",
        "      <td> 197</td>\n",
        "      <td> 181</td>\n",
        "    </tr>\n",
        "    <tr>\n",
        "      <th>8</th>\n",
        "      <td> 2009</td>\n",
        "      <td> 74</td>\n",
        "      <td> 231</td>\n",
        "      <td> 200</td>\n",
        "    </tr>\n",
        "    <tr>\n",
        "      <th>9</th>\n",
        "      <td> 2010</td>\n",
        "      <td> 74</td>\n",
        "      <td> 207</td>\n",
        "      <td> 184</td>\n",
        "    </tr>\n",
        "  </tbody>\n",
        "</table>\n",
        "</div>"
       ],
       "metadata": {},
       "output_type": "pyout",
       "prompt_number": 4,
       "text": [
        "   year  temperature  rainfall  mosquitos\n",
        "0  2001           80       157        150\n",
        "1  2002           85       252        217\n",
        "2  2003           86       154        153\n",
        "3  2004           87       159        158\n",
        "4  2005           74       292        243\n",
        "5  2006           75       283        237\n",
        "6  2007           80       214        190\n",
        "7  2008           85       197        181\n",
        "8  2009           74       231        200\n",
        "9  2010           74       207        184"
       ]
      }
     ],
     "prompt_number": 4
    },
    {
     "cell_type": "markdown",
     "metadata": {},
     "source": [
      "The `read_csv()` function belongs to the `pandas` library. In order to run it we need to tell Python that it is part of `pandas` and we do this using the dot notation, which is used everywhere in Python to refer to parts of larger things.\n",
      "\n",
      "When we are finished typing and press Shift+Enter, the notebook runs our command and shows us its output. In this case, the output is the data we just loaded."
     ]
    },
    {
     "cell_type": "markdown",
     "metadata": {},
     "source": [
      "The first column on the left is the `index` column, a way for `pandas` to label each row, by default it just uses integers.\n",
      "However in this case we have a better way of indexing the data, we can use the `year` column. We can use the `index_col` keyword argument to `read_csv()` to specify the index column:"
     ]
    },
    {
     "cell_type": "code",
     "collapsed": false,
     "input": [
      "pandas.read_csv('A1_mosquito_data.csv', sep=',', index_col='year')"
     ],
     "language": "python",
     "metadata": {},
     "outputs": [
      {
       "html": [
        "<div style=\"max-height:1000px;max-width:1500px;overflow:auto;\">\n",
        "<table border=\"1\" class=\"dataframe\">\n",
        "  <thead>\n",
        "    <tr style=\"text-align: right;\">\n",
        "      <th></th>\n",
        "      <th>temperature</th>\n",
        "      <th>rainfall</th>\n",
        "      <th>mosquitos</th>\n",
        "    </tr>\n",
        "    <tr>\n",
        "      <th>year</th>\n",
        "      <th></th>\n",
        "      <th></th>\n",
        "      <th></th>\n",
        "    </tr>\n",
        "  </thead>\n",
        "  <tbody>\n",
        "    <tr>\n",
        "      <th>2001</th>\n",
        "      <td> 80</td>\n",
        "      <td> 157</td>\n",
        "      <td> 150</td>\n",
        "    </tr>\n",
        "    <tr>\n",
        "      <th>2002</th>\n",
        "      <td> 85</td>\n",
        "      <td> 252</td>\n",
        "      <td> 217</td>\n",
        "    </tr>\n",
        "    <tr>\n",
        "      <th>2003</th>\n",
        "      <td> 86</td>\n",
        "      <td> 154</td>\n",
        "      <td> 153</td>\n",
        "    </tr>\n",
        "    <tr>\n",
        "      <th>2004</th>\n",
        "      <td> 87</td>\n",
        "      <td> 159</td>\n",
        "      <td> 158</td>\n",
        "    </tr>\n",
        "    <tr>\n",
        "      <th>2005</th>\n",
        "      <td> 74</td>\n",
        "      <td> 292</td>\n",
        "      <td> 243</td>\n",
        "    </tr>\n",
        "    <tr>\n",
        "      <th>2006</th>\n",
        "      <td> 75</td>\n",
        "      <td> 283</td>\n",
        "      <td> 237</td>\n",
        "    </tr>\n",
        "    <tr>\n",
        "      <th>2007</th>\n",
        "      <td> 80</td>\n",
        "      <td> 214</td>\n",
        "      <td> 190</td>\n",
        "    </tr>\n",
        "    <tr>\n",
        "      <th>2008</th>\n",
        "      <td> 85</td>\n",
        "      <td> 197</td>\n",
        "      <td> 181</td>\n",
        "    </tr>\n",
        "    <tr>\n",
        "      <th>2009</th>\n",
        "      <td> 74</td>\n",
        "      <td> 231</td>\n",
        "      <td> 200</td>\n",
        "    </tr>\n",
        "    <tr>\n",
        "      <th>2010</th>\n",
        "      <td> 74</td>\n",
        "      <td> 207</td>\n",
        "      <td> 184</td>\n",
        "    </tr>\n",
        "  </tbody>\n",
        "</table>\n",
        "</div>"
       ],
       "metadata": {},
       "output_type": "pyout",
       "prompt_number": 5,
       "text": [
        "      temperature  rainfall  mosquitos\n",
        "year                                  \n",
        "2001           80       157        150\n",
        "2002           85       252        217\n",
        "2003           86       154        153\n",
        "2004           87       159        158\n",
        "2005           74       292        243\n",
        "2006           75       283        237\n",
        "2007           80       214        190\n",
        "2008           85       197        181\n",
        "2009           74       231        200\n",
        "2010           74       207        184"
       ]
      }
     ],
     "prompt_number": 5
    },
    {
     "cell_type": "markdown",
     "metadata": {},
     "source": [
      "Our call to `pandas.read_csv()` read data into memory, but didn't save it anywhere. To do that, we need to assign the array to a variable."
     ]
    },
    {
     "cell_type": "code",
     "collapsed": false,
     "input": [
      "data = pandas.read_csv('A1_mosquito_data.csv', sep=',', index_col='year')"
     ],
     "language": "python",
     "metadata": {},
     "outputs": [],
     "prompt_number": 6
    },
    {
     "cell_type": "markdown",
     "metadata": {},
     "source": [
      "This statement doesn't produce any output because assignment doesn't display anything. If we want to check that our data has been loaded, we can print the variable's value:"
     ]
    },
    {
     "cell_type": "code",
     "collapsed": false,
     "input": [
      "print(data)"
     ],
     "language": "python",
     "metadata": {},
     "outputs": [
      {
       "output_type": "stream",
       "stream": "stdout",
       "text": [
        "      temperature  rainfall  mosquitos\n",
        "year                                  \n",
        "2001           80       157        150\n",
        "2002           85       252        217\n",
        "2003           86       154        153\n",
        "2004           87       159        158\n",
        "2005           74       292        243\n",
        "2006           75       283        237\n",
        "2007           80       214        190\n",
        "2008           85       197        181\n",
        "2009           74       231        200\n",
        "2010           74       207        184\n"
       ]
      }
     ],
     "prompt_number": 7
    },
    {
     "cell_type": "markdown",
     "metadata": {},
     "source": [
      "`print data` tells Python to display the text. Alternatively we could just include `data` as the last value in a code cell:"
     ]
    },
    {
     "cell_type": "code",
     "collapsed": false,
     "input": [
      "data"
     ],
     "language": "python",
     "metadata": {},
     "outputs": [
      {
       "html": [
        "<div style=\"max-height:1000px;max-width:1500px;overflow:auto;\">\n",
        "<table border=\"1\" class=\"dataframe\">\n",
        "  <thead>\n",
        "    <tr style=\"text-align: right;\">\n",
        "      <th></th>\n",
        "      <th>temperature</th>\n",
        "      <th>rainfall</th>\n",
        "      <th>mosquitos</th>\n",
        "    </tr>\n",
        "    <tr>\n",
        "      <th>year</th>\n",
        "      <th></th>\n",
        "      <th></th>\n",
        "      <th></th>\n",
        "    </tr>\n",
        "  </thead>\n",
        "  <tbody>\n",
        "    <tr>\n",
        "      <th>2001</th>\n",
        "      <td> 80</td>\n",
        "      <td> 157</td>\n",
        "      <td> 150</td>\n",
        "    </tr>\n",
        "    <tr>\n",
        "      <th>2002</th>\n",
        "      <td> 85</td>\n",
        "      <td> 252</td>\n",
        "      <td> 217</td>\n",
        "    </tr>\n",
        "    <tr>\n",
        "      <th>2003</th>\n",
        "      <td> 86</td>\n",
        "      <td> 154</td>\n",
        "      <td> 153</td>\n",
        "    </tr>\n",
        "    <tr>\n",
        "      <th>2004</th>\n",
        "      <td> 87</td>\n",
        "      <td> 159</td>\n",
        "      <td> 158</td>\n",
        "    </tr>\n",
        "    <tr>\n",
        "      <th>2005</th>\n",
        "      <td> 74</td>\n",
        "      <td> 292</td>\n",
        "      <td> 243</td>\n",
        "    </tr>\n",
        "    <tr>\n",
        "      <th>2006</th>\n",
        "      <td> 75</td>\n",
        "      <td> 283</td>\n",
        "      <td> 237</td>\n",
        "    </tr>\n",
        "    <tr>\n",
        "      <th>2007</th>\n",
        "      <td> 80</td>\n",
        "      <td> 214</td>\n",
        "      <td> 190</td>\n",
        "    </tr>\n",
        "    <tr>\n",
        "      <th>2008</th>\n",
        "      <td> 85</td>\n",
        "      <td> 197</td>\n",
        "      <td> 181</td>\n",
        "    </tr>\n",
        "    <tr>\n",
        "      <th>2009</th>\n",
        "      <td> 74</td>\n",
        "      <td> 231</td>\n",
        "      <td> 200</td>\n",
        "    </tr>\n",
        "    <tr>\n",
        "      <th>2010</th>\n",
        "      <td> 74</td>\n",
        "      <td> 207</td>\n",
        "      <td> 184</td>\n",
        "    </tr>\n",
        "  </tbody>\n",
        "</table>\n",
        "</div>"
       ],
       "metadata": {},
       "output_type": "pyout",
       "prompt_number": 8,
       "text": [
        "      temperature  rainfall  mosquitos\n",
        "year                                  \n",
        "2001           80       157        150\n",
        "2002           85       252        217\n",
        "2003           86       154        153\n",
        "2004           87       159        158\n",
        "2005           74       292        243\n",
        "2006           75       283        237\n",
        "2007           80       214        190\n",
        "2008           85       197        181\n",
        "2009           74       231        200\n",
        "2010           74       207        184"
       ]
      }
     ],
     "prompt_number": 8
    },
    {
     "cell_type": "markdown",
     "metadata": {},
     "source": [
      "This tells the IPython Notebook to display the `data` object, which is why we see a pretty formated table."
     ]
    },
    {
     "cell_type": "heading",
     "level": 2,
     "metadata": {},
     "source": [
      "Manipulating data"
     ]
    },
    {
     "cell_type": "markdown",
     "metadata": {},
     "source": [
      "Once we have imported the data we can start doing things with it. First, let's ask what type of thing `data` refers to:"
     ]
    },
    {
     "cell_type": "code",
     "collapsed": false,
     "input": [
      "print(type(data))"
     ],
     "language": "python",
     "metadata": {},
     "outputs": [
      {
       "output_type": "stream",
       "stream": "stdout",
       "text": [
        "<class 'pandas.core.frame.DataFrame'>\n"
       ]
      }
     ],
     "prompt_number": 9
    },
    {
     "cell_type": "markdown",
     "metadata": {},
     "source": [
      "The data is stored in a data structure called a DataFrame. There are other kinds of data structures that are also commonly used in scientific computing including Numpy arrays, and Numpy matrices, which can be used for doing linear algebra."
     ]
    },
    {
     "cell_type": "markdown",
     "metadata": {},
     "source": [
      "We can select an individual column of data using its name:"
     ]
    },
    {
     "cell_type": "code",
     "collapsed": false,
     "input": [
      "print(data['temperature'])"
     ],
     "language": "python",
     "metadata": {},
     "outputs": [
      {
       "output_type": "stream",
       "stream": "stdout",
       "text": [
        "year\n",
        "2001    80\n",
        "2002    85\n",
        "2003    86\n",
        "2004    87\n",
        "2005    74\n",
        "2006    75\n",
        "2007    80\n",
        "2008    85\n",
        "2009    74\n",
        "2010    74\n",
        "Name: temperature, dtype: int64\n"
       ]
      }
     ],
     "prompt_number": 10
    },
    {
     "cell_type": "markdown",
     "metadata": {},
     "source": [
      "Or we can select several columns of data at once:"
     ]
    },
    {
     "cell_type": "code",
     "collapsed": false,
     "input": [
      "print(data[['rainfall', 'temperature']])"
     ],
     "language": "python",
     "metadata": {},
     "outputs": [
      {
       "output_type": "stream",
       "stream": "stdout",
       "text": [
        "      rainfall  temperature\n",
        "year                       \n",
        "2001       157           80\n",
        "2002       252           85\n",
        "2003       154           86\n",
        "2004       159           87\n",
        "2005       292           74\n",
        "2006       283           75\n",
        "2007       214           80\n",
        "2008       197           85\n",
        "2009       231           74\n",
        "2010       207           74\n"
       ]
      }
     ],
     "prompt_number": 11
    },
    {
     "cell_type": "code",
     "collapsed": false,
     "input": [
      "data.index"
     ],
     "language": "python",
     "metadata": {},
     "outputs": [
      {
       "metadata": {},
       "output_type": "pyout",
       "prompt_number": 12,
       "text": [
        "Int64Index([2001, 2002, 2003, 2004, 2005, 2006, 2007, 2008, 2009, 2010], dtype='int64')"
       ]
      }
     ],
     "prompt_number": 12
    },
    {
     "cell_type": "markdown",
     "metadata": {},
     "source": [
      "We can also select subsets of rows using slicing. Say we just want the first two rows of data:"
     ]
    },
    {
     "cell_type": "code",
     "collapsed": false,
     "input": [
      "print(data[:2])"
     ],
     "language": "python",
     "metadata": {},
     "outputs": [
      {
       "output_type": "stream",
       "stream": "stdout",
       "text": [
        "      temperature  rainfall  mosquitos\n",
        "year                                  \n",
        "2001           80       157        150\n",
        "2002           85       252        217\n"
       ]
      }
     ],
     "prompt_number": 13
    },
    {
     "cell_type": "markdown",
     "metadata": {},
     "source": [
      "However most of the time we want to index using the `index`!"
     ]
    },
    {
     "cell_type": "code",
     "collapsed": false,
     "input": [
      "data.ix[2004:2008]"
     ],
     "language": "python",
     "metadata": {},
     "outputs": [
      {
       "html": [
        "<div style=\"max-height:1000px;max-width:1500px;overflow:auto;\">\n",
        "<table border=\"1\" class=\"dataframe\">\n",
        "  <thead>\n",
        "    <tr style=\"text-align: right;\">\n",
        "      <th></th>\n",
        "      <th>temperature</th>\n",
        "      <th>rainfall</th>\n",
        "      <th>mosquitos</th>\n",
        "    </tr>\n",
        "    <tr>\n",
        "      <th>year</th>\n",
        "      <th></th>\n",
        "      <th></th>\n",
        "      <th></th>\n",
        "    </tr>\n",
        "  </thead>\n",
        "  <tbody>\n",
        "    <tr>\n",
        "      <th>2004</th>\n",
        "      <td> 87</td>\n",
        "      <td> 159</td>\n",
        "      <td> 158</td>\n",
        "    </tr>\n",
        "    <tr>\n",
        "      <th>2005</th>\n",
        "      <td> 74</td>\n",
        "      <td> 292</td>\n",
        "      <td> 243</td>\n",
        "    </tr>\n",
        "    <tr>\n",
        "      <th>2006</th>\n",
        "      <td> 75</td>\n",
        "      <td> 283</td>\n",
        "      <td> 237</td>\n",
        "    </tr>\n",
        "    <tr>\n",
        "      <th>2007</th>\n",
        "      <td> 80</td>\n",
        "      <td> 214</td>\n",
        "      <td> 190</td>\n",
        "    </tr>\n",
        "    <tr>\n",
        "      <th>2008</th>\n",
        "      <td> 85</td>\n",
        "      <td> 197</td>\n",
        "      <td> 181</td>\n",
        "    </tr>\n",
        "  </tbody>\n",
        "</table>\n",
        "</div>"
       ],
       "metadata": {},
       "output_type": "pyout",
       "prompt_number": 14,
       "text": [
        "      temperature  rainfall  mosquitos\n",
        "year                                  \n",
        "2004           87       159        158\n",
        "2005           74       292        243\n",
        "2006           75       283        237\n",
        "2007           80       214        190\n",
        "2008           85       197        181"
       ]
      }
     ],
     "prompt_number": 14
    },
    {
     "cell_type": "code",
     "collapsed": false,
     "input": [
      "data.ix[2004:2008][\"temperature\"]"
     ],
     "language": "python",
     "metadata": {},
     "outputs": [
      {
       "metadata": {},
       "output_type": "pyout",
       "prompt_number": 15,
       "text": [
        "year\n",
        "2004    87\n",
        "2005    74\n",
        "2006    75\n",
        "2007    80\n",
        "2008    85\n",
        "Name: temperature, dtype: int64"
       ]
      }
     ],
     "prompt_number": 15
    },
    {
     "cell_type": "code",
     "collapsed": false,
     "input": [
      "data.ix[2004]"
     ],
     "language": "python",
     "metadata": {},
     "outputs": [
      {
       "metadata": {},
       "output_type": "pyout",
       "prompt_number": 16,
       "text": [
        "temperature     87\n",
        "rainfall       159\n",
        "mosquitos      158\n",
        "Name: 2004, dtype: int64"
       ]
      }
     ],
     "prompt_number": 16
    },
    {
     "cell_type": "markdown",
     "metadata": {},
     "source": [
      "We can also subset the data based on the value of other rows:"
     ]
    },
    {
     "cell_type": "code",
     "collapsed": false,
     "input": [
      "data['temperature'][data['mosquitos'] > 200]"
     ],
     "language": "python",
     "metadata": {},
     "outputs": [
      {
       "metadata": {},
       "output_type": "pyout",
       "prompt_number": 17,
       "text": [
        "year\n",
        "2002    85\n",
        "2005    74\n",
        "2006    75\n",
        "Name: temperature, dtype: int64"
       ]
      }
     ],
     "prompt_number": 17
    },
    {
     "cell_type": "heading",
     "level": 3,
     "metadata": {},
     "source": [
      "Challenge"
     ]
    },
    {
     "cell_type": "markdown",
     "metadata": {},
     "source": [
      "Print the mosquitos number when temperature is more than 75 degrees between 2005 and 2008"
     ]
    },
    {
     "cell_type": "code",
     "collapsed": false,
     "input": [
      "data['mosquitos'][data['temperature'] > 75].ix[2005:2008]"
     ],
     "language": "python",
     "metadata": {},
     "outputs": [
      {
       "metadata": {},
       "output_type": "pyout",
       "prompt_number": 18,
       "text": [
        "year\n",
        "2007    190\n",
        "2008    181\n",
        "Name: mosquitos, dtype: int64"
       ]
      }
     ],
     "prompt_number": 18
    },
    {
     "cell_type": "code",
     "collapsed": false,
     "input": [
      "data['mosquitos'].ix[2005:2008][data['temperature'] > 75]"
     ],
     "language": "python",
     "metadata": {},
     "outputs": [
      {
       "metadata": {},
       "output_type": "pyout",
       "prompt_number": 19,
       "text": [
        "year\n",
        "2007    190\n",
        "2008    181\n",
        "Name: mosquitos, dtype: int64"
       ]
      }
     ],
     "prompt_number": 19
    },
    {
     "cell_type": "markdown",
     "metadata": {},
     "source": [
      "Data frames also know how to perform common mathematical operations on their values. If we want to find the average value for each variable, we can just ask the data frame for its mean values"
     ]
    },
    {
     "cell_type": "code",
     "collapsed": false,
     "input": [
      "print(data.mean())"
     ],
     "language": "python",
     "metadata": {},
     "outputs": [
      {
       "output_type": "stream",
       "stream": "stdout",
       "text": [
        "temperature     80.0\n",
        "rainfall       214.6\n",
        "mosquitos      191.3\n",
        "dtype: float64\n"
       ]
      }
     ],
     "prompt_number": 20
    },
    {
     "cell_type": "markdown",
     "metadata": {},
     "source": [
      "Data frames have lots of useful methods:"
     ]
    },
    {
     "cell_type": "code",
     "collapsed": false,
     "input": [
      "print(data.max())"
     ],
     "language": "python",
     "metadata": {},
     "outputs": [
      {
       "output_type": "stream",
       "stream": "stdout",
       "text": [
        "temperature     87\n",
        "rainfall       292\n",
        "mosquitos      243\n",
        "dtype: int64\n"
       ]
      }
     ],
     "prompt_number": 21
    },
    {
     "cell_type": "code",
     "collapsed": false,
     "input": [
      "print(data['temperature'].min())"
     ],
     "language": "python",
     "metadata": {},
     "outputs": [
      {
       "output_type": "stream",
       "stream": "stdout",
       "text": [
        "74\n"
       ]
      }
     ],
     "prompt_number": 22
    },
    {
     "cell_type": "code",
     "collapsed": false,
     "input": [
      "print(data['mosquitos'][1:3].std())"
     ],
     "language": "python",
     "metadata": {},
     "outputs": [
      {
       "output_type": "stream",
       "stream": "stdout",
       "text": [
        "45.2548339959\n"
       ]
      }
     ],
     "prompt_number": 23
    },
    {
     "cell_type": "heading",
     "level": 2,
     "metadata": {},
     "source": [
      "Summary on how to use parentheses"
     ]
    },
    {
     "cell_type": "code",
     "collapsed": false,
     "input": [
      "abs(-1) # call function\n",
      "data.max() # call method on an object\n",
      "\n",
      "data[:3] # slicing by row\n",
      "data[\"temperature\"] # get a column of a data frame \"slice a column\"\n",
      "dataslice = data.ix[2004:2008] # this is a special case, we are slicing ix"
     ],
     "language": "python",
     "metadata": {},
     "outputs": [],
     "prompt_number": 24
    },
    {
     "cell_type": "heading",
     "level": 3,
     "metadata": {},
     "source": [
      "Challenge"
     ]
    },
    {
     "cell_type": "markdown",
     "metadata": {},
     "source": [
      "Import the data from `A2_mosquito_data.csv`, create a new variable that holds a data frame with only the weather data, and print the means and standard deviations for the weather variables."
     ]
    },
    {
     "cell_type": "heading",
     "level": 2,
     "metadata": {},
     "source": [
      "Plotting"
     ]
    },
    {
     "cell_type": "code",
     "collapsed": false,
     "input": [
      "%matplotlib inline"
     ],
     "language": "python",
     "metadata": {},
     "outputs": [],
     "prompt_number": 25
    },
    {
     "cell_type": "code",
     "collapsed": false,
     "input": [
      "from matplotlib import pyplot as plt"
     ],
     "language": "python",
     "metadata": {},
     "outputs": [],
     "prompt_number": 26
    },
    {
     "cell_type": "markdown",
     "metadata": {},
     "source": [
      "Now, let's make a simple plot showing how the number of mosquitos varies over time. We'll use the site you've been doing exercises with since it has a longer time-series."
     ]
    },
    {
     "cell_type": "code",
     "collapsed": false,
     "input": [
      "data = pandas.read_csv('A2_mosquito_data.csv', index_col=\"year\")\n",
      "data['mosquitos'].plot()"
     ],
     "language": "python",
     "metadata": {},
     "outputs": [
      {
       "metadata": {},
       "output_type": "pyout",
       "prompt_number": 27,
       "text": [
        "<matplotlib.axes._subplots.AxesSubplot at 0x7f76348b1190>"
       ]
      },
      {
       "metadata": {},
       "output_type": "display_data",
       "png": "[encoded data removed]",
       "text": [
        "<matplotlib.figure.Figure at 0x7f7634896a90>"
       ]
      }
     ],
     "prompt_number": 27
    },
    {
     "cell_type": "markdown",
     "metadata": {},
     "source": [
      "Pandas can automatically plot a complete table:"
     ]
    },
    {
     "cell_type": "code",
     "collapsed": false,
     "input": [
      "data.plot(figsize=(13,8), marker='s')"
     ],
     "language": "python",
     "metadata": {},
     "outputs": [
      {
       "metadata": {},
       "output_type": "pyout",
       "prompt_number": 28,
       "text": [
        "<matplotlib.axes._subplots.AxesSubplot at 0x7f7634811210>"
       ]
      },
      {
       "metadata": {},
       "output_type": "display_data",
       "png": "[encoded data removed]",
       "text": [
        "<matplotlib.figure.Figure at 0x7f763479a510>"
       ]
      }
     ],
     "prompt_number": 28
    },
    {
     "cell_type": "heading",
     "level": 3,
     "metadata": {},
     "source": [
      "Fitting a line through the data"
     ]
    },
    {
     "cell_type": "code",
     "collapsed": false,
     "input": [
      "import statsmodels.api as sm\n",
      "\n",
      "regr_results = sm.OLS.from_formula('mosquitos ~ temperature', data).fit()\n",
      "regr_results.summary()"
     ],
     "language": "python",
     "metadata": {},
     "outputs": [
      {
       "html": [
        "<table class=\"simpletable\">\n",
        "<caption>OLS Regression Results</caption>\n",
        "<tr>\n",
        "  <th>Dep. Variable:</th>        <td>mosquitos</td>    <th>  R-squared:         </th> <td>   0.004</td>\n",
        "</tr>\n",
        "<tr>\n",
        "  <th>Model:</th>                   <td>OLS</td>       <th>  Adj. R-squared:    </th> <td>  -0.017</td>\n",
        "</tr>\n",
        "<tr>\n",
        "  <th>Method:</th>             <td>Least Squares</td>  <th>  F-statistic:       </th> <td>  0.1735</td>\n",
        "</tr>\n",
        "<tr>\n",
        "  <th>Date:</th>             <td>Sat, 21 Feb 2015</td> <th>  Prob (F-statistic):</th>  <td> 0.679</td> \n",
        "</tr>\n",
        "<tr>\n",
        "  <th>Time:</th>                 <td>21:01:26</td>     <th>  Log-Likelihood:    </th> <td> -259.30</td>\n",
        "</tr>\n",
        "<tr>\n",
        "  <th>No. Observations:</th>      <td>    51</td>      <th>  AIC:               </th> <td>   522.6</td>\n",
        "</tr>\n",
        "<tr>\n",
        "  <th>Df Residuals:</th>          <td>    49</td>      <th>  BIC:               </th> <td>   526.5</td>\n",
        "</tr>\n",
        "<tr>\n",
        "  <th>Df Model:</th>              <td>     1</td>      <th>                     </th>     <td> </td>   \n",
        "</tr>\n",
        "</table>\n",
        "<table class=\"simpletable\">\n",
        "<tr>\n",
        "       <td></td>          <th>coef</th>     <th>std err</th>      <th>t</th>      <th>P>|t|</th> <th>[95.0% Conf. Int.]</th> \n",
        "</tr>\n",
        "<tr>\n",
        "  <th>Intercept</th>   <td>  154.4695</td> <td>   74.077</td> <td>    2.085</td> <td> 0.042</td> <td>    5.605   303.334</td>\n",
        "</tr>\n",
        "<tr>\n",
        "  <th>temperature</th> <td>    0.3827</td> <td>    0.919</td> <td>    0.417</td> <td> 0.679</td> <td>   -1.464     2.229</td>\n",
        "</tr>\n",
        "</table>\n",
        "<table class=\"simpletable\">\n",
        "<tr>\n",
        "  <th>Omnibus:</th>       <td> 8.529</td> <th>  Durbin-Watson:     </th> <td>   1.854</td>\n",
        "</tr>\n",
        "<tr>\n",
        "  <th>Prob(Omnibus):</th> <td> 0.014</td> <th>  Jarque-Bera (JB):  </th> <td>   2.660</td>\n",
        "</tr>\n",
        "<tr>\n",
        "  <th>Skew:</th>          <td>-0.072</td> <th>  Prob(JB):          </th> <td>   0.265</td>\n",
        "</tr>\n",
        "<tr>\n",
        "  <th>Kurtosis:</th>      <td> 1.891</td> <th>  Cond. No.          </th> <td>1.07e+03</td>\n",
        "</tr>\n",
        "</table>"
       ],
       "metadata": {},
       "output_type": "pyout",
       "prompt_number": 29,
       "text": [
        "<class 'statsmodels.iolib.summary.Summary'>\n",
        "\"\"\"\n",
        "                            OLS Regression Results                            \n",
        "==============================================================================\n",
        "Dep. Variable:              mosquitos   R-squared:                       0.004\n",
        "Model:                            OLS   Adj. R-squared:                 -0.017\n",
        "Method:                 Least Squares   F-statistic:                    0.1735\n",
        "Date:                Sat, 21 Feb 2015   Prob (F-statistic):              0.679\n",
        "Time:                        21:01:26   Log-Likelihood:                -259.30\n",
        "No. Observations:                  51   AIC:                             522.6\n",
        "Df Residuals:                      49   BIC:                             526.5\n",
        "Df Model:                           1                                         \n",
        "===============================================================================\n",
        "                  coef    std err          t      P>|t|      [95.0% Conf. Int.]\n",
        "-------------------------------------------------------------------------------\n",
        "Intercept     154.4695     74.077      2.085      0.042         5.605   303.334\n",
        "temperature     0.3827      0.919      0.417      0.679        -1.464     2.229\n",
        "==============================================================================\n",
        "Omnibus:                        8.529   Durbin-Watson:                   1.854\n",
        "Prob(Omnibus):                  0.014   Jarque-Bera (JB):                2.660\n",
        "Skew:                          -0.072   Prob(JB):                        0.265\n",
        "Kurtosis:                       1.891   Cond. No.                     1.07e+03\n",
        "==============================================================================\n",
        "\n",
        "Warnings:\n",
        "[1] The condition number is large, 1.07e+03. This might indicate that there are\n",
        "strong multicollinearity or other numerical problems.\n",
        "\"\"\""
       ]
      }
     ],
     "prompt_number": 29
    },
    {
     "cell_type": "code",
     "collapsed": false,
     "input": [
      "line_fit = regr_results.params['Intercept'] + regr_results.params['temperature'] * data['temperature']\n",
      "plt.plot(data['temperature'], data['mosquitos'], '.', label=\"data\")\n",
      "plt.plot(data['temperature'], line_fit, 'red', label=\"fit\")\n",
      "plt.xlabel('temperature')\n",
      "plt.ylabel('mosquitos')\n",
      "plt.legend()"
     ],
     "language": "python",
     "metadata": {},
     "outputs": [
      {
       "metadata": {},
       "output_type": "pyout",
       "prompt_number": 30,
       "text": [
        "<matplotlib.legend.Legend at 0x7f76208a0c90>"
       ]
      },
      {
       "metadata": {},
       "output_type": "display_data",
       "png": "[encoded data removed]",
       "text": [
        "<matplotlib.figure.Figure at 0x7f762085ecd0>"
       ]
      }
     ],
     "prompt_number": 30
    },
    {
     "cell_type": "heading",
     "level": 4,
     "metadata": {},
     "source": [
      "Challenge"
     ]
    },
    {
     "cell_type": "markdown",
     "metadata": {},
     "source": [
      "Perform the line fit and the plot for `rainfall` instead."
     ]
    },
    {
     "cell_type": "code",
     "collapsed": false,
     "input": [],
     "language": "python",
     "metadata": {},
     "outputs": [],
     "prompt_number": 30
    }
   ],
   "metadata": {}
  }
 ]
}