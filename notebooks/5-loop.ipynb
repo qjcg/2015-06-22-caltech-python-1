{
 "cells": [
  {
   "cell_type": "markdown",
   "metadata": {
    "cell_tags": []
   },
   "source": [
    "## Repeat a block of code"
   ]
  },
  {
   "cell_type": "markdown",
   "metadata": {
    "cell_tags": [
     "objectives"
    ]
   },
   "source": [
    "#### Objectives\n",
    "\n",
    "*   Explain what a for loop does.\n",
    "*   Correctly write for loops to repeat simple calculations.\n",
    "*   Trace changes to a loop variable as the loop runs.\n",
    "*   Trace changes to other variables as they are updated by a for loop.\n",
    "*   Explain what a list is.\n",
    "*   Create and index lists of simple values."
   ]
  },
  {
   "cell_type": "markdown",
   "metadata": {
    "cell_tags": []
   },
   "source": [
    "### Lists"
   ]
  },
  {
   "cell_type": "markdown",
   "metadata": {
    "cell_tags": []
   },
   "source": [
    "We create a list by putting values inside square brackets:"
   ]
  },
  {
   "cell_type": "code",
   "execution_count": 6,
   "metadata": {
    "cell_tags": [],
    "collapsed": false
   },
   "outputs": [],
   "source": [
    "names = ['Alice', 'Bob', 'Carl']"
   ]
  },
  {
   "cell_type": "code",
   "execution_count": 7,
   "metadata": {
    "collapsed": false
   },
   "outputs": [
    {
     "data": {
      "text/plain": [
       "list"
      ]
     },
     "execution_count": 7,
     "metadata": {},
     "output_type": "execute_result"
    }
   ],
   "source": [
    "type(names)"
   ]
  },
  {
   "cell_type": "code",
   "execution_count": 8,
   "metadata": {
    "collapsed": false
   },
   "outputs": [],
   "source": [
    "names.append('Dave')"
   ]
  },
  {
   "cell_type": "code",
   "execution_count": 9,
   "metadata": {
    "collapsed": false
   },
   "outputs": [
    {
     "data": {
      "text/plain": [
       "['Alice', 'Bob', 'Carl', 'Dave']"
      ]
     },
     "execution_count": 9,
     "metadata": {},
     "output_type": "execute_result"
    }
   ],
   "source": [
    "names"
   ]
  },
  {
   "cell_type": "code",
   "execution_count": 11,
   "metadata": {
    "collapsed": false
   },
   "outputs": [
    {
     "data": {
      "text/plain": [
       "['Alice', 'Bob']"
      ]
     },
     "execution_count": 11,
     "metadata": {},
     "output_type": "execute_result"
    }
   ],
   "source": [
    "names[:2]"
   ]
  },
  {
   "cell_type": "code",
   "execution_count": 10,
   "metadata": {
    "collapsed": false
   },
   "outputs": [
    {
     "data": {
      "text/plain": [
       "'Alice'"
      ]
     },
     "execution_count": 10,
     "metadata": {},
     "output_type": "execute_result"
    }
   ],
   "source": [
    "names[0]"
   ]
  },
  {
   "cell_type": "code",
   "execution_count": 9,
   "metadata": {
    "collapsed": false
   },
   "outputs": [
    {
     "name": "stdout",
     "output_type": "stream",
     "text": [
      "['Alice', 'Bob', 'Carl', 'Dave']\n"
     ]
    }
   ],
   "source": [
    "print(names)"
   ]
  },
  {
   "cell_type": "code",
   "execution_count": 12,
   "metadata": {
    "collapsed": false
   },
   "outputs": [
    {
     "name": "stdout",
     "output_type": "stream",
     "text": [
      "Printing a name: Alice\n",
      "Printing a name: Bob\n",
      "Printing a name: Carl\n",
      "Printing a name: Dave\n"
     ]
    }
   ],
   "source": [
    "print(\"Printing a name: \" + names[0])\n",
    "print(\"Printing a name: \" + names[1])\n",
    "print(\"Printing a name: \" + names[2])\n",
    "print(\"Printing a name: \" + names[3])"
   ]
  },
  {
   "cell_type": "code",
   "execution_count": 13,
   "metadata": {
    "cell_tags": [],
    "collapsed": false
   },
   "outputs": [
    {
     "name": "stdout",
     "output_type": "stream",
     "text": [
      "Printing a name: Alice\n",
      "Printing a name: Bob\n",
      "Printing a name: Carl\n",
      "Printing a name: Dave\n"
     ]
    }
   ],
   "source": [
    "for n in names:\n",
    "    print(\"Printing a name: \" + n)"
   ]
  },
  {
   "cell_type": "markdown",
   "metadata": {
    "cell_tags": []
   },
   "source": [
    "### For Loops"
   ]
  },
  {
   "cell_type": "markdown",
   "metadata": {
    "cell_tags": []
   },
   "source": [
    "A [for loop](../../gloss.html#for-loop)\n",
    "to repeat an operation---in this case, printing---once for each thing in a collection.\n",
    "The general form of a loop is:\n",
    "\n",
    "<pre>\n",
    "<strong>for</strong> <em>variable</em> <strong>in</strong> <em>collection</em><strong>:</strong>\n",
    "    <em>do things with variable</em>\n",
    "</pre>"
   ]
  },
  {
   "cell_type": "code",
   "execution_count": 12,
   "metadata": {
    "cell_tags": [],
    "collapsed": false
   },
   "outputs": [
    {
     "name": "stdout",
     "output_type": "stream",
     "text": [
      "['Dave', 'Carl', 'Bob', 'Alice']\n"
     ]
    }
   ],
   "source": [
    "names.reverse()\n",
    "print(names)"
   ]
  },
  {
   "cell_type": "code",
   "execution_count": 14,
   "metadata": {
    "collapsed": false
   },
   "outputs": [
    {
     "data": {
      "text/plain": [
       "4"
      ]
     },
     "execution_count": 14,
     "metadata": {},
     "output_type": "execute_result"
    }
   ],
   "source": [
    "len(names)"
   ]
  },
  {
   "cell_type": "code",
   "execution_count": 18,
   "metadata": {
    "collapsed": false
   },
   "outputs": [
    {
     "name": "stdout",
     "output_type": "stream",
     "text": [
      "['Alice', 'Bob', 'Carl', 'Dave']\n"
     ]
    },
    {
     "data": {
      "text/plain": [
       "3"
      ]
     },
     "execution_count": 18,
     "metadata": {},
     "output_type": "execute_result"
    }
   ],
   "source": [
    "print(names)\n",
    "len(names[1])"
   ]
  },
  {
   "cell_type": "markdown",
   "metadata": {},
   "source": [
    "### Challenge"
   ]
  },
  {
   "cell_type": "markdown",
   "metadata": {},
   "source": [
    "Write a cell in the notebook that computes the sum of the number of characters of each string in the names list"
   ]
  },
  {
   "cell_type": "code",
   "execution_count": 19,
   "metadata": {
    "collapsed": false
   },
   "outputs": [
    {
     "name": "stdout",
     "output_type": "stream",
     "text": [
      "('The total number of characters in the names list is:', 16)\n"
     ]
    }
   ],
   "source": [
    "sum_chars = 0\n",
    "for n in names:\n",
    "    sum_chars += len(n)\n",
    "\n",
    "print(\"The total number of characters in the names list is:\", sum_chars) "
   ]
  },
  {
   "cell_type": "markdown",
   "metadata": {},
   "source": [
    "## A useful library: glob"
   ]
  },
  {
   "cell_type": "code",
   "execution_count": 20,
   "metadata": {
    "collapsed": false
   },
   "outputs": [
    {
     "name": "stdout",
     "output_type": "stream",
     "text": [
      "('The type of nbs is:', <type 'list'>)\n",
      "2-modularization-documentation.ipynb\n",
      "7-defensive.ipynb\n",
      "8-module.ipynb\n",
      "9-errors.ipynb\n",
      "0-intro-python.ipynb\n",
      "1-load-plot-data.ipynb\n",
      "3-lists.ipynb\n",
      "4-making-choices.ipynb\n",
      "6-loop-challenge.ipynb\n",
      "5-loop.ipynb\n"
     ]
    }
   ],
   "source": [
    "import glob\n",
    "nbs = glob.glob('*.ipynb')\n",
    "print(\"The type of nbs is:\", type(nbs))\n",
    "for n in nbs:\n",
    "    print(n)"
   ]
  },
  {
   "cell_type": "markdown",
   "metadata": {},
   "source": [
    "# Challenge\n",
    "\n",
    "Write some code that reads each mosquito data CSV file into a pandas DataFrame and then prints:\n",
    "- the name of the CSV file\n",
    "- the first 3 rows of the dataframe\n",
    "\n",
    "(HINT: we're in the for loop lesson!)"
   ]
  },
  {
   "cell_type": "code",
   "execution_count": 23,
   "metadata": {
    "collapsed": false
   },
   "outputs": [
    {
     "name": "stdout",
     "output_type": "stream",
     "text": [
      "('The name of the file is:', 'B2_mosquito_data.csv')\n",
      "   year  temperature  rainfall  mosquitos\n",
      "0  1960           84       129        151\n",
      "1  1961           76       135        149\n",
      "2  1962           82       194        194\n",
      "('The name of the file is:', 'B1_mosquito_data.csv')\n",
      "   year  temperature  rainfall  mosquitos\n",
      "0  1960           87       270        122\n",
      "1  1961           77       296        116\n",
      "2  1962           87       281        117\n",
      "('The name of the file is:', 'A3_mosquito_data.csv')\n",
      "   year  temperature  rainfall  mosquitos\n",
      "0  1960           76       191         93\n",
      "1  1961           73       249        109\n",
      "2  1962           81       112         73\n",
      "('The name of the file is:', 'A2_mosquito_data.csv')\n",
      "   year  temperature  rainfall  mosquitos\n",
      "0  1960           82       200        180\n",
      "1  1961           70       227        194\n",
      "2  1962           89       231        207\n",
      "('The name of the file is:', 'A1_mosquito_data.csv')\n",
      "   year  temperature  rainfall  mosquitos\n",
      "0  2001           80       157        150\n",
      "1  2002           85       252        217\n",
      "2  2003           86       154        153\n"
     ]
    }
   ],
   "source": [
    "import pandas\n",
    "from glob import glob\n",
    "\n",
    "csvs = glob('*.csv')\n",
    "for f in csvs:\n",
    "    df = pandas.read_csv(f)\n",
    "    print(\"The name of the file is:\", f)\n",
    "    print(df[:3])"
   ]
  },
  {
   "cell_type": "markdown",
   "metadata": {
    "cell_tags": []
   },
   "source": [
    "#### Key Points\n",
    "\n",
    "*   Use `for variable in collection` to process the elements of a collection one at a time.\n",
    "*   The body of a for loop must be indented.\n",
    "*   Use `len(thing)` to determine the length of something that contains other values.\n",
    "*   `[value1, value2, value3, ...]` creates a list.\n",
    "*   Lists are indexed and sliced in the same way as strings and arrays."
   ]
  }
 ],
 "metadata": {
  "kernelspec": {
   "display_name": "Python 2",
   "language": "python",
   "name": "python2"
  },
  "language_info": {
   "codemirror_mode": {
    "name": "ipython",
    "version": 2
   },
   "file_extension": ".py",
   "mimetype": "text/x-python",
   "name": "python",
   "nbconvert_exporter": "python",
   "pygments_lexer": "ipython2",
   "version": "2.7.10"
  }
 },
 "nbformat": 4,
 "nbformat_minor": 0
}
