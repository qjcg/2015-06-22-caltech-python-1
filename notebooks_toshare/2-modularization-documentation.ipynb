{
 "cells": [
  {
   "cell_type": "markdown",
   "metadata": {},
   "source": [
    "# Modularization and Documentation"
   ]
  },
  {
   "cell_type": "markdown",
   "metadata": {},
   "source": [
    "Now that we've covered some of the basic syntax and libraries in Python we can start to tackle our data analysis problem.\n",
    "We are interested in understanding the relationship between the weather and the number of mosquitos so that we can plan mosquito control measures.\n",
    "Since we want to apply these mosquito control measures at a number of different sites we need to understand how the relationship varies across sites.\n",
    "Remember that we have a series of CSV files with each file containing the data for a single location."
   ]
  },
  {
   "cell_type": "markdown",
   "metadata": {},
   "source": [
    "## Objectives"
   ]
  },
  {
   "cell_type": "markdown",
   "metadata": {},
   "source": [
    "* Write code for people, not computers\n",
    "* Break a program into chunks\n",
    "* Write and use functions in Python\n",
    "* Write useful documentation"
   ]
  },
  {
   "cell_type": "markdown",
   "metadata": {},
   "source": [
    "## Starting small"
   ]
  },
  {
   "cell_type": "markdown",
   "metadata": {},
   "source": [
    "When approaching computational tasks like this one it is typically best to start small,\n",
    "check each piece of code as you go,\n",
    "and make incremental changes.\n",
    "This helps avoid marathon debugging sessions\n",
    "because it's much easier to debug one small piece of the code at a time than to write 100 lines of code and\n",
    "then try to figure out all of the different bugs in it.\n",
    "\n",
    "Let's start by reading in the data from a single file and conducting a simple regression analysis on it.\n",
    "In fact, I would actually start by just importing the data and making sure that everything is coming in OK."
   ]
  },
  {
   "cell_type": "code",
   "execution_count": 1,
   "metadata": {
    "collapsed": false
   },
   "outputs": [
    {
     "name": "stdout",
     "output_type": "stream",
     "text": [
      "    year  temperature  rainfall  mosquitos\n",
      "0   1960           82       200        180\n",
      "1   1961           70       227        194\n",
      "2   1962           89       231        207\n",
      "3   1963           74       114        121\n",
      "4   1964           78       147        140\n",
      "5   1965           85       151        148\n",
      "6   1966           86       172        162\n",
      "7   1967           75       106        112\n",
      "8   1968           70       276        230\n",
      "9   1969           86       165        162\n",
      "10  1970           83       222        198\n",
      "11  1971           78       297        247\n",
      "12  1972           87       288        248\n",
      "13  1973           76       286        239\n",
      "14  1974           86       231        202\n",
      "15  1975           90       284        243\n",
      "16  1976           76       190        175\n",
      "17  1977           87       257        225\n",
      "18  1978           88       128        133\n",
      "19  1979           87       218        199\n",
      "20  1980           81       206        184\n",
      "21  1981           74       175        160\n",
      "22  1982           85       202        187\n",
      "23  1983           71       130        126\n",
      "24  1984           80       225        200\n",
      "25  1985           72       196        173\n",
      "26  1986           76       261        222\n",
      "27  1987           85       111        121\n",
      "28  1988           83       247        210\n",
      "29  1989           86       137        142\n",
      "30  1990           82       159        152\n",
      "31  1991           77       172        160\n",
      "32  1992           74       280        231\n",
      "33  1993           70       291        238\n",
      "34  1994           77       126        125\n",
      "35  1995           89       191        178\n",
      "36  1996           83       298        248\n",
      "37  1997           80       282        237\n",
      "38  1998           86       219        195\n",
      "39  1999           72       143        134\n",
      "40  2000           79       262        221\n",
      "41  2001           85       189        175\n",
      "42  2002           86       205        186\n",
      "43  2003           72       195        173\n",
      "44  2004           78       148        146\n",
      "45  2005           71       262        219\n",
      "46  2006           88       255        226\n",
      "47  2007           79       262        221\n",
      "48  2008           73       198        176\n",
      "49  2009           86       215        187\n",
      "50  2010           87       127        129\n"
     ]
    }
   ],
   "source": [
    "import pandas as pd\n",
    "\n",
    "d = pd.read_csv('A2_mosquito_data.csv')\n",
    "print(d)"
   ]
  },
  {
   "cell_type": "markdown",
   "metadata": {},
   "source": [
    "The import seems to be working properly, so that's good news,\n",
    "but does anyone have anyone see anything about the code that they don't like?\n",
    "\n",
    "That's right.\n",
    "The variable name I've chosen for the data doesn't really communicate any information to anyone about what it's holding,\n",
    "which means that when I come back to my code next month to change something I'm going to have a more difficult time understanding what the code is actually doing.\n",
    "This brings us to one of our first major lessons for the morning,\n",
    "which is that in order to understand what our code is doing so that we can quickly make changes in the future,\n",
    "we need to *write code for people, not computers*,\n",
    "and an important first step is to *use meaningful varible names*."
   ]
  },
  {
   "cell_type": "code",
   "execution_count": 2,
   "metadata": {
    "collapsed": false
   },
   "outputs": [
    {
     "name": "stdout",
     "output_type": "stream",
     "text": [
      "      temperature  rainfall  mosquitos\n",
      "year                                  \n",
      "1960           82       200        180\n",
      "1961           70       227        194\n",
      "1962           89       231        207\n",
      "1963           74       114        121\n",
      "1964           78       147        140\n"
     ]
    }
   ],
   "source": [
    "import pandas as pd\n",
    "\n",
    "data = pd.read_csv('A2_mosquito_data.csv', index_col='year')\n",
    "print(data.head())"
   ]
  },
  {
   "cell_type": "markdown",
   "metadata": {},
   "source": [
    "The `.head()` method lets us just look at the first few rows of the data.\n",
    "A method is a function attached to an object that operates on that object.\n",
    "So in this case we can think of it as being equivalent to `head(data)`.\n",
    "\n",
    "Everything looks good,\n",
    "but either global warming has gotten *really* out of control or the temperatures are in degrees Fahrenheit.\n",
    "Let's convert them to Celcius before we get started.\n",
    "\n",
    "We don't need to reimport the data in our new cell because all of the executed cells in IPython Notebook share the same workspace.\n",
    "However, it's worth noting that if we close the notebook and then open it again it is necessary to rerun all of the individual blocks of code that a code block relies on before continuing.\n",
    "To rerun all of the cells in a notebook you can select `Cell -> Run All` from the menu."
   ]
  },
  {
   "cell_type": "code",
   "execution_count": 3,
   "metadata": {
    "collapsed": false
   },
   "outputs": [
    {
     "name": "stdout",
     "output_type": "stream",
     "text": [
      "      temperature  rainfall  mosquitos\n",
      "year                                  \n",
      "1960    27.777778       200        180\n",
      "1961    21.111111       227        194\n",
      "1962    31.666667       231        207\n",
      "1963    23.333333       114        121\n",
      "1964    25.555556       147        140\n"
     ]
    }
   ],
   "source": [
    "data['temperature'] = (data['temperature'] - 32) * 5 / 9.0\n",
    "print(data.head())"
   ]
  },
  {
   "cell_type": "markdown",
   "metadata": {},
   "source": [
    "That's better.\n",
    "Now let's go ahead and conduct a regression on the data.\n",
    "We'll use the `statsmodels` library to conduct the regression."
   ]
  },
  {
   "cell_type": "code",
   "execution_count": 31,
   "metadata": {
    "collapsed": false
   },
   "outputs": [
    {
     "data": {
      "text/html": [
       "<table class=\"simpletable\">\n",
       "<caption>OLS Regression Results</caption>\n",
       "<tr>\n",
       "  <th>Dep. Variable:</th>        <td>mosquitos</td>    <th>  R-squared:         </th> <td>   0.004</td>\n",
       "</tr>\n",
       "<tr>\n",
       "  <th>Model:</th>                   <td>OLS</td>       <th>  Adj. R-squared:    </th> <td>  -0.017</td>\n",
       "</tr>\n",
       "<tr>\n",
       "  <th>Method:</th>             <td>Least Squares</td>  <th>  F-statistic:       </th> <td>  0.1735</td>\n",
       "</tr>\n",
       "<tr>\n",
       "  <th>Date:</th>             <td>Thu, 12 Feb 2015</td> <th>  Prob (F-statistic):</th>  <td> 0.679</td> \n",
       "</tr>\n",
       "<tr>\n",
       "  <th>Time:</th>                 <td>16:14:04</td>     <th>  Log-Likelihood:    </th> <td> -259.30</td>\n",
       "</tr>\n",
       "<tr>\n",
       "  <th>No. Observations:</th>      <td>    51</td>      <th>  AIC:               </th> <td>   522.6</td>\n",
       "</tr>\n",
       "<tr>\n",
       "  <th>Df Residuals:</th>          <td>    49</td>      <th>  BIC:               </th> <td>   526.5</td>\n",
       "</tr>\n",
       "<tr>\n",
       "  <th>Df Model:</th>              <td>     1</td>      <th>                     </th>     <td> </td>   \n",
       "</tr>\n",
       "</table>\n",
       "<table class=\"simpletable\">\n",
       "<tr>\n",
       "       <td></td>          <th>coef</th>     <th>std err</th>      <th>t</th>      <th>P>|t|</th> <th>[95.0% Conf. Int.]</th> \n",
       "</tr>\n",
       "<tr>\n",
       "  <th>Intercept</th>   <td>  166.7158</td> <td>   44.813</td> <td>    3.720</td> <td> 0.001</td> <td>   76.660   256.771</td>\n",
       "</tr>\n",
       "<tr>\n",
       "  <th>temperature</th> <td>    0.6889</td> <td>    1.654</td> <td>    0.417</td> <td> 0.679</td> <td>   -2.635     4.012</td>\n",
       "</tr>\n",
       "</table>\n",
       "<table class=\"simpletable\">\n",
       "<tr>\n",
       "  <th>Omnibus:</th>       <td> 8.529</td> <th>  Durbin-Watson:     </th> <td>   1.854</td>\n",
       "</tr>\n",
       "<tr>\n",
       "  <th>Prob(Omnibus):</th> <td> 0.014</td> <th>  Jarque-Bera (JB):  </th> <td>   2.660</td>\n",
       "</tr>\n",
       "<tr>\n",
       "  <th>Skew:</th>          <td>-0.072</td> <th>  Prob(JB):          </th> <td>   0.265</td>\n",
       "</tr>\n",
       "<tr>\n",
       "  <th>Kurtosis:</th>      <td> 1.891</td> <th>  Cond. No.          </th> <td>    218.</td>\n",
       "</tr>\n",
       "</table>"
      ],
      "text/plain": [
       "<class 'statsmodels.iolib.summary.Summary'>\n",
       "\"\"\"\n",
       "                            OLS Regression Results                            \n",
       "==============================================================================\n",
       "Dep. Variable:              mosquitos   R-squared:                       0.004\n",
       "Model:                            OLS   Adj. R-squared:                 -0.017\n",
       "Method:                 Least Squares   F-statistic:                    0.1735\n",
       "Date:                Thu, 12 Feb 2015   Prob (F-statistic):              0.679\n",
       "Time:                        16:14:04   Log-Likelihood:                -259.30\n",
       "No. Observations:                  51   AIC:                             522.6\n",
       "Df Residuals:                      49   BIC:                             526.5\n",
       "Df Model:                           1                                         \n",
       "===============================================================================\n",
       "                  coef    std err          t      P>|t|      [95.0% Conf. Int.]\n",
       "-------------------------------------------------------------------------------\n",
       "Intercept     166.7158     44.813      3.720      0.001        76.660   256.771\n",
       "temperature     0.6889      1.654      0.417      0.679        -2.635     4.012\n",
       "==============================================================================\n",
       "Omnibus:                        8.529   Durbin-Watson:                   1.854\n",
       "Prob(Omnibus):                  0.014   Jarque-Bera (JB):                2.660\n",
       "Skew:                          -0.072   Prob(JB):                        0.265\n",
       "Kurtosis:                       1.891   Cond. No.                         218.\n",
       "==============================================================================\n",
       "\"\"\""
      ]
     },
     "execution_count": 31,
     "metadata": {},
     "output_type": "execute_result"
    }
   ],
   "source": [
    "import statsmodels.api as sm\n",
    "\n",
    "regr_results = sm.OLS.from_formula('mosquitos ~ temperature', data).fit()\n",
    "regr_results.summary()"
   ]
  },
  {
   "cell_type": "markdown",
   "metadata": {},
   "source": [
    "As you can see `statsmodels` lets us use the names of the columns in our dataframe\n",
    "to clearly specify the form of the statistical model we want to fit.\n",
    "This also makes the code more readable since the model we are fitting is written in a nice,\n",
    "human readable, manner.\n",
    "The `summary` method gives us a visual representation of the results.\n",
    "This summary is nice to look at, but it isn't really useful for doing more computation,\n",
    "so we can look up particular values related to the regression using the `regr_results` attributes.\n",
    "These are variables that are attached to `regr_results`."
   ]
  },
  {
   "cell_type": "code",
   "execution_count": 32,
   "metadata": {
    "collapsed": false
   },
   "outputs": [
    {
     "name": "stdout",
     "output_type": "stream",
     "text": [
      "Intercept      166.715804\n",
      "temperature      0.688853\n",
      "dtype: float64\n",
      "0.00352781828497\n"
     ]
    }
   ],
   "source": [
    "print(regr_results.params)\n",
    "print(regr_results.rsquared)"
   ]
  },
  {
   "cell_type": "markdown",
   "metadata": {},
   "source": [
    "If we want to hold onto these values for later we can assign them to variables:"
   ]
  },
  {
   "cell_type": "code",
   "execution_count": 33,
   "metadata": {
    "collapsed": false
   },
   "outputs": [],
   "source": [
    "parameters = regr_results.params\n",
    "rsquared = regr_results.rsquared"
   ]
  },
  {
   "cell_type": "markdown",
   "metadata": {},
   "source": [
    "And then we can plot the observed data against the values predicted by our regression to visualize the results.\n",
    "First, remember to tell the notebook that we want our plots to appear in the notebook itself."
   ]
  },
  {
   "cell_type": "code",
   "execution_count": 34,
   "metadata": {
    "collapsed": false
   },
   "outputs": [],
   "source": [
    "%matplotlib inline"
   ]
  },
  {
   "cell_type": "code",
   "execution_count": 40,
   "metadata": {
    "collapsed": false
   },
   "outputs": [
    {
     "data": {
      "text/plain": [
       "<matplotlib.legend.Legend at 0x7fb4a4b3ab00>"
      ]
     },
     "execution_count": 40,
     "metadata": {},
     "output_type": "execute_result"
    },
    {
     "data": {
      "image/png": "[encoded data removed]",
      "text/plain": [
       "<matplotlib.figure.Figure at 0x7fb4a4cfcac8>"
      ]
     },
     "metadata": {},
     "output_type": "display_data"
    }
   ],
   "source": [
    "import matplotlib.pyplot as plt\n",
    "\n",
    "line_fit = parameters['Intercept'] + parameters['temperature'] * data['temperature']\n",
    "plt.plot(data['temperature'], data['mosquitos'], '.', label=\"data\")\n",
    "plt.plot(data['temperature'], line_fit, 'red', label=\"fit\")\n",
    "plt.xlabel('temperature')\n",
    "plt.ylabel('mosquitos')\n",
    "plt.legend()"
   ]
  },
  {
   "cell_type": "markdown",
   "metadata": {},
   "source": [
    "### Challenge"
   ]
  },
  {
   "cell_type": "markdown",
   "metadata": {},
   "source": [
    "Repeat the fit and the plotting using `rainfall` instead, does it get better?"
   ]
  },
  {
   "cell_type": "markdown",
   "metadata": {},
   "source": [
    "OK, great.\n",
    "So putting this all together we now have a piece of code that imports the modules we need,\n",
    "loads the data into memory, fits a regression to the data,\n",
    "and prints the parameters and plots data and fit."
   ]
  },
  {
   "cell_type": "code",
   "execution_count": 46,
   "metadata": {
    "collapsed": false
   },
   "outputs": [
    {
     "name": "stdout",
     "output_type": "stream",
     "text": [
      "Intercept    41.159816\n",
      "rainfall      0.695885\n",
      "dtype: float64\n",
      "R^2 =  0.991315935461\n"
     ]
    },
    {
     "data": {
      "image/png": "[encoded data removed]",
      "text/plain": [
       "<matplotlib.figure.Figure at 0x7fb4a53836d8>"
      ]
     },
     "metadata": {},
     "output_type": "display_data"
    }
   ],
   "source": [
    "import pandas as pd\n",
    "import statsmodels.api as sm\n",
    "import matplotlib.pyplot as plt\n",
    "\n",
    "data = pd.read_csv('A2_mosquito_data.csv')\n",
    "data['temperature'] = (data['temperature'] - 32) * 5 / 9.0\n",
    "regr_results = sm.OLS.from_formula('mosquitos ~ rainfall', data).fit()\n",
    "parameters = regr_results.params\n",
    "rsquared = regr_results.rsquared\n",
    "line_fit = parameters['Intercept'] + parameters['rainfall'] * data['rainfall']\n",
    "plt.plot(data['rainfall'], data['mosquitos'], '.', label=\"data\")\n",
    "plt.plot(data['rainfall'], line_fit, 'red', label=\"fit\")\n",
    "plt.xlabel('rainfall')\n",
    "plt.ylabel('mosquitos')\n",
    "plt.legend(loc='best')\n",
    "print(parameters)\n",
    "print(\"R^2 = \", rsquared)"
   ]
  },
  {
   "cell_type": "markdown",
   "metadata": {},
   "source": [
    "## Functions"
   ]
  },
  {
   "cell_type": "markdown",
   "metadata": {},
   "source": [
    "The next thing we need to do is loop over all of the possible data files,\n",
    "but in order to do that we're going to need to grow our code some more.\n",
    "Since our brain can only easily hold 5-7 pieces of information at once,\n",
    "and our code already has more than that many pieces,\n",
    "we need to start breaking our code into manageable sized chunks.\n",
    "This will let us read and understand the code more easily and make it easier to reuse pieces of our code.\n",
    "We'll do this using functions.\n",
    "\n",
    "Functions in Python take the general form\n",
    "\n",
    "~~~python\n",
    "def function_name(inputs):\n",
    "    do stuff\n",
    "    return output\n",
    "~~~\n",
    "\n",
    "So, if we want to write a function that returns the value of a number squared we could use:"
   ]
  },
  {
   "cell_type": "code",
   "execution_count": 47,
   "metadata": {
    "collapsed": false
   },
   "outputs": [
    {
     "name": "stdout",
     "output_type": "stream",
     "text": [
      "Four squared is 16\n",
      "Five squared is 25\n"
     ]
    }
   ],
   "source": [
    "def square(x):\n",
    "    x_squared = x ** 2\n",
    "    return x_squared\n",
    "\n",
    "print(\"Four squared is\", square(4))\n",
    "print(\"Five squared is\", square(5))"
   ]
  },
  {
   "cell_type": "markdown",
   "metadata": {},
   "source": [
    "We can also just return the desired value directly."
   ]
  },
  {
   "cell_type": "code",
   "execution_count": 48,
   "metadata": {
    "collapsed": false
   },
   "outputs": [
    {
     "name": "stdout",
     "output_type": "stream",
     "text": [
      "9\n"
     ]
    }
   ],
   "source": [
    "def square(x):\n",
    "    return x ** 2\n",
    "\n",
    "print(square(3))"
   ]
  },
  {
   "cell_type": "markdown",
   "metadata": {},
   "source": [
    "And remember, if we want to use the result of the function later we need to store it somewhere."
   ]
  },
  {
   "cell_type": "code",
   "execution_count": 49,
   "metadata": {
    "collapsed": false
   },
   "outputs": [
    {
     "name": "stdout",
     "output_type": "stream",
     "text": [
      "4\n"
     ]
    }
   ],
   "source": [
    "two_squared = square(2)\n",
    "print(two_squared)"
   ]
  },
  {
   "cell_type": "markdown",
   "metadata": {},
   "source": [
    "### Challenges"
   ]
  },
  {
   "cell_type": "markdown",
   "metadata": {},
   "source": [
    "1\\. Write a function that converts temperature from Fahrenheit to Celsius and use it to replace\n",
    "\n",
    "~~~python\n",
    "data['temperature'] = (data['temperature'] - 32) * 5 / 9.0\n",
    "~~~\n",
    "\n",
    "in our program.\n",
    "\n",
    "2\\. Write a function called `analyze()` that takes `data` as an input, performs the regression, makes the plot, and returns `parameters`."
   ]
  },
  {
   "cell_type": "code",
   "execution_count": 54,
   "metadata": {
    "collapsed": false
   },
   "outputs": [],
   "source": [
    "import pandas as pd\n",
    "import statsmodels.api as sm\n",
    "import matplotlib.pyplot as plt\n",
    "\n",
    "def fahr_to_celsius(temp_fahr):\n",
    "    temp_celsius = (temp_fahr - 32) * 5 / 9.0\n",
    "    return temp_celsius\n",
    "\n",
    "def analyze(data):\n",
    "    data['temperature'] = (data['temperature'] - 32) * 5 / 9.0\n",
    "    regr_results = sm.OLS.from_formula('mosquitos ~ rainfall', data).fit()\n",
    "    parameters = regr_results.params\n",
    "    rsquared = regr_results.rsquared\n",
    "    line_fit = parameters['Intercept'] + parameters['rainfall'] * data['rainfall']\n",
    "    plt.plot(data['rainfall'], data['mosquitos'], '.', label=\"data\")\n",
    "    plt.plot(data['rainfall'], line_fit, 'red', label=\"fit\")\n",
    "    plt.xlabel('rainfall')\n",
    "    plt.ylabel('mosquitos')\n",
    "    plt.legend(loc='best')\n",
    "    return parameters"
   ]
  },
  {
   "cell_type": "code",
   "execution_count": 70,
   "metadata": {
    "collapsed": false
   },
   "outputs": [
    {
     "name": "stdout",
     "output_type": "stream",
     "text": [
      "Intercept    41.159816\n",
      "rainfall      0.695885\n",
      "dtype: float64\n"
     ]
    },
    {
     "data": {
      "image/png": "[encoded data removed]",
      "text/plain": [
       "<matplotlib.figure.Figure at 0x7fb4a48dc6d8>"
      ]
     },
     "metadata": {},
     "output_type": "display_data"
    }
   ],
   "source": [
    "data_A2 = pd.read_csv('A2_mosquito_data.csv')\n",
    "parameters_A2 = analyze(data)\n",
    "print(parameters_A2)"
   ]
  },
  {
   "cell_type": "markdown",
   "metadata": {},
   "source": [
    "## The call stack"
   ]
  },
  {
   "cell_type": "markdown",
   "metadata": {},
   "source": [
    "Let's take a closer look at what happens when we call fahr_to_celsius(32.0). To make things clearer, we'll start by putting the initial value 32.0 in a variable and store the final result in one as well.\n",
    "\n",
    "(A useful tool for visualizing the call stack: http://pythontutor.com/visualize.html)"
   ]
  },
  {
   "cell_type": "code",
   "execution_count": 65,
   "metadata": {
    "collapsed": false
   },
   "outputs": [],
   "source": [
    "def fahr_to_celsius(temp_fahr):\n",
    "    temp_celsius = (temp_fahr - 32) * 5 / 9.0\n",
    "    return temp_celsius\n",
    "\n",
    "original = 32.0\n",
    "final = fahr_to_celsius(original)"
   ]
  },
  {
   "cell_type": "markdown",
   "metadata": {},
   "source": [
    "#### Call Stack (Initial State)\n",
    "\n",
    "When the first three lines of this function are executed the function is created,\n",
    "but nothing happens.\n",
    "The function is like a recipe,\n",
    "it contains the information about how to do something,\n",
    "but it doesn't do so until you explicitly ask it to.\n",
    "We then create the variable `original` and assign the value 32.0 to it.\n",
    "The values `tempF` and `tempC` don't currently exist. \n",
    "\n",
    "#### Call Stack Immediately After Function Call\n",
    "\n",
    "When we call `fahr_to_celsius`,\n",
    "Python creates another stack frame to hold fahr_to_celsius's variables.\n",
    "Upon creation this stack frame only includes the inputs being passed to the function,\n",
    "so in our case `tempF`.\n",
    "As the function is executed variables created by the function are stored in the functions stack frame,\n",
    "so `tempC` is created in the `fahr_to_celsius` stack frame.\n",
    "\n",
    "#### Call Stack At End Of Function Call\n",
    "\n",
    "When the call to `fahr_to_celsius` returns a value,\n",
    "Python throws away `fahr_to_celsius`'s stack frame,\n",
    "including all of the variables it contains,\n",
    "and creates a new variable\n",
    "in the original stack frame to hold the temperature in Celsius.\n",
    "\n",
    "#### Call Stack After End\n",
    "\n",
    "This final stack frame is always there;\n",
    "it holds the variables we defined outside the functions in our code.\n",
    "What it doesn't hold is the variables that were in the other stack frames.\n",
    "If we try to get the value of `tempF` or `tempC` after our functions have finished running,\n",
    "Python tells us that there's no such thing:\n"
   ]
  },
  {
   "cell_type": "code",
   "execution_count": 66,
   "metadata": {
    "collapsed": false
   },
   "outputs": [],
   "source": [
    "# print(temp_celsius)"
   ]
  },
  {
   "cell_type": "markdown",
   "metadata": {},
   "source": [
    "The reason for this is encapsulation,\n",
    "and it's one of the key to writing correct, comprehensible programs.\n",
    "A function's job is to turn several operations into one so that we can think about\n",
    "a single function call instead of a dozen or a hundred statements each time we want to do something.\n",
    "That only works if functions don't interfere with each other by potentially changing the same variables;\n",
    "if they do, we have to pay attention to the details once again,\n",
    "which quickly overloads our short-term memory."
   ]
  },
  {
   "cell_type": "markdown",
   "metadata": {},
   "source": [
    "### Challenge"
   ]
  },
  {
   "cell_type": "markdown",
   "metadata": {},
   "source": [
    "What about `temp_fahr`, it appears in the function call, is that defined?"
   ]
  },
  {
   "cell_type": "markdown",
   "metadata": {},
   "source": [
    "## Documentation"
   ]
  },
  {
   "cell_type": "markdown",
   "metadata": {},
   "source": [
    "We should write some [documentation](../../gloss.html#documentation)\n",
    "to remind ourselves later what it's for and how to use it.\n",
    "This function may be fairly straightforward,\n",
    "but in most cases it won't be so easy to remember exactly what a function is doing in a few months.\n",
    "Just imagine looking at our `analyze` function a few months in the future\n",
    "and trying to remember exactly what it was doing just based on the code.\n",
    "\n",
    "The usual way to put documentation in code is to add [comments](../../gloss.html#comment) like this:"
   ]
  },
  {
   "cell_type": "code",
   "execution_count": 73,
   "metadata": {
    "collapsed": false
   },
   "outputs": [],
   "source": [
    "import pandas as pd\n",
    "import statsmodels.api as sm\n",
    "import matplotlib.pyplot as plt\n",
    "\n",
    "def fahr_to_celsius(temp_fahr):\n",
    "    temp_celsius = (temp_fahr - 32) * 5 / 9.0\n",
    "    return temp_celsius\n",
    "\n",
    "def analyze(data):\n",
    "    data['temperature'] = fahr_to_celsius(data['temperature'])\n",
    "    # linear fit\n",
    "    regr_results = sm.OLS.from_formula('mosquitos ~ rainfall', data).fit()\n",
    "    parameters = regr_results.params\n",
    "    line_fit = parameters['Intercept'] + parameters['rainfall'] * data['rainfall']\n",
    "    # plotting\n",
    "    plt.plot(data['rainfall'], data['mosquitos'], '.', label=\"data\")\n",
    "    plt.plot(data['rainfall'], line_fit, 'red', label=\"fit\")\n",
    "    plt.xlabel('rainfall')\n",
    "    plt.ylabel('mosquitos')\n",
    "    plt.legend(loc='best')\n",
    "    return parameters"
   ]
  },
  {
   "cell_type": "markdown",
   "metadata": {
    "cell_tags": []
   },
   "source": [
    "There's a better way to do this in Python.\n",
    "If the first thing in a function is a string that isn't assigned to a variable,\n",
    "that string is attached to the function as its documentation:"
   ]
  },
  {
   "cell_type": "code",
   "execution_count": 75,
   "metadata": {
    "collapsed": false
   },
   "outputs": [],
   "source": [
    "def fahr_to_celsius(temp_fahr):\n",
    "    \"\"\"Convert temperature from Fahrenheit to Celsius\"\"\"\n",
    "    temp_celsius = (temp_fahr - 32) * 5 / 9.0\n",
    "    return temp_celsius"
   ]
  },
  {
   "cell_type": "markdown",
   "metadata": {},
   "source": [
    "### Challenge"
   ]
  },
  {
   "cell_type": "markdown",
   "metadata": {},
   "source": [
    "Write docstring for the `analyze` function, remember to be specific on the type of the input, its expected properties, what is performed by the function and what is returned"
   ]
  },
  {
   "cell_type": "code",
   "execution_count": 75,
   "metadata": {
    "collapsed": false
   },
   "outputs": [],
   "source": [
    "import pandas as pd\n",
    "import statsmodels.api as sm\n",
    "import matplotlib.pyplot as plt\n",
    "\n",
    "def fahr_to_celsius(temp_fahr):\n",
    "    \"\"\"Convert temperature from Fahrenheit to Celsius\"\"\"\n",
    "    temp_celsius = (temp_fahr - 32) * 5 / 9.0\n",
    "    return temp_celsius\n",
    "\n",
    "def analyze(data):\n",
    "    \"\"\"Perform regression analysis on mosquito data\n",
    "   \n",
    "    Performs a linear regression based on rainfall.\n",
    "    Creates a plot of the result and returns fit parameters.\n",
    "    \n",
    "    Parameters\n",
    "    ----------\n",
    "    data : pandas.Dataframe\n",
    "        Column named 'temperature', 'rainfall' and 'mosquitos'.\n",
    "            \n",
    "    Returns\n",
    "    -------\n",
    "    parameters : pandas.Series\n",
    "        Fit parameters named Intercept and rainfall\n",
    "    \n",
    "    \"\"\"\n",
    "    data['temperature'] = fahr_to_celsius(data['temperature'])\n",
    "    # linear fit\n",
    "    regr_results = sm.OLS.from_formula('mosquitos ~ rainfall', data).fit()\n",
    "    parameters = regr_results.params\n",
    "    line_fit = parameters['Intercept'] + parameters['rainfall'] * data['rainfall']\n",
    "    # plotting\n",
    "    plt.plot(data['rainfall'], data['mosquitos'], '.', label=\"data\")\n",
    "    plt.plot(data['rainfall'], line_fit, 'red', label=\"fit\")\n",
    "    plt.xlabel('rainfall')\n",
    "    plt.ylabel('mosquitos')\n",
    "    plt.legend(loc='best')\n",
    "    return parameters"
   ]
  },
  {
   "cell_type": "markdown",
   "metadata": {
    "cell_tags": []
   },
   "source": [
    "This is better because we can now ask Python's built-in help system to show us the documentation for the function."
   ]
  },
  {
   "cell_type": "code",
   "execution_count": 76,
   "metadata": {
    "cell_tags": [],
    "collapsed": false
   },
   "outputs": [
    {
     "name": "stdout",
     "output_type": "stream",
     "text": [
      "Help on function analyze in module __main__:\n",
      "\n",
      "analyze(data)\n",
      "    Perform regression analysis on mosquito data\n",
      "    \n",
      "    Performs a linear regression based on rainfall.\n",
      "    Creates a plot of the result and returns fit parameters.\n",
      "    \n",
      "    Parameters\n",
      "    ----------\n",
      "    data : pandas.Dataframe\n",
      "        Column named 'temperature', 'rainfall' and 'mosquitos'.\n",
      "            \n",
      "    Returns\n",
      "    -------\n",
      "    parameters : pandas.Series\n",
      "        Fit parameters named Intercept and rainfall\n",
      "\n"
     ]
    }
   ],
   "source": [
    "help(analyze)"
   ]
  },
  {
   "cell_type": "markdown",
   "metadata": {
    "cell_tags": []
   },
   "source": [
    "A string like this is called a [docstring](../../gloss.html#docstring)\n",
    "and there are also automatic documentation generators that use these docstrings to produce documentation for users.\n",
    "We use triple quotes because\n",
    "it allows us to include multiple lines of text and because it is considered good Python style."
   ]
  }
 ],
 "metadata": {
  "kernelspec": {
   "display_name": "Python 2",
   "language": "python",
   "name": "python2"
  },
  "language_info": {
   "codemirror_mode": {
    "name": "ipython",
    "version": 2
   },
   "file_extension": ".py",
   "mimetype": "text/x-python",
   "name": "python",
   "nbconvert_exporter": "python",
   "pygments_lexer": "ipython2",
   "version": "2.7.10"
  }
 },
 "nbformat": 4,
 "nbformat_minor": 0
}
